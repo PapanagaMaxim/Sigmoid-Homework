{
 "cells": [
  {
   "cell_type": "code",
   "execution_count": 2,
   "id": "87d0da49",
   "metadata": {},
   "outputs": [],
   "source": [
    "import numpy as np"
   ]
  },
  {
   "cell_type": "code",
   "execution_count": null,
   "id": "25a6f0b2",
   "metadata": {},
   "outputs": [
    {
     "name": "stdout",
     "output_type": "stream",
     "text": [
      "0.24197072451914337\n"
     ]
    }
   ],
   "source": [
    "# Task 1\n",
    "def normal_distribution(x: float, mu: float, sigma: float) -> float:\n",
    "    part1 = 1 / (sigma * np.sqrt(2 * np.pi))\n",
    "    part2 = np.exp(-0.5 * ((x - mu) / sigma) ** 2)\n",
    "    return part1 * part2\n",
    "\n",
    "print(normal_distribution(1.0, mu=0.0, sigma=1.0))"
   ]
  },
  {
   "cell_type": "code",
   "execution_count": null,
   "id": "628a6ce5",
   "metadata": {},
   "outputs": [
    {
     "name": "stdout",
     "output_type": "stream",
     "text": [
      "0.7310585786300049\n",
      "0.8807970779778823\n",
      "0.9525741268224334\n"
     ]
    }
   ],
   "source": [
    "# Task 2\n",
    "def sigmoid(y: float) -> float:\n",
    "    return 1 / (1 + np.exp(-y))\n",
    "\n",
    "print(sigmoid(1))\n",
    "print(sigmoid(2))\n",
    "print(sigmoid(3))"
   ]
  },
  {
   "cell_type": "code",
   "execution_count": null,
   "id": "a22eeb72",
   "metadata": {},
   "outputs": [
    {
     "name": "stdout",
     "output_type": "stream",
     "text": [
      "[ 0.50009299 -0.19803666]\n"
     ]
    }
   ],
   "source": [
    "# Task 3\n",
    "def sigmoid(z):\n",
    "    return 1 / (1 + np.exp(-z))\n",
    "\n",
    "def update_weights(w: np.ndarray, X: np.ndarray, y: np.ndarray, alpha: float = 0.0005) -> np.ndarray:\n",
    "    y_hat = sigmoid(np.dot(X, w))\n",
    "    errors = y - y_hat\n",
    "    gradient = np.dot(X.T, errors)\n",
    "    w_updated = w + alpha * gradient\n",
    "    return w_updated\n",
    "\n",
    "w = np.array([0.5, -0.2])\n",
    "X = np.array([[1.0, 2.0], [1.0, 7.0]])\n",
    "y = np.array([0, 1])\n",
    "\n",
    "new_w = update_weights(w, X, y)\n",
    "print(new_w)"
   ]
  },
  {
   "cell_type": "code",
   "execution_count": null,
   "id": "156f4e07",
   "metadata": {},
   "outputs": [
    {
     "name": "stdout",
     "output_type": "stream",
     "text": [
      "0.020000000000000035\n"
     ]
    }
   ],
   "source": [
    "# Task 4\n",
    "def mean_squared_error(target: np.ndarray, predictions: np.ndarray) -> float:\n",
    "    errors = (target - predictions) ** 2\n",
    "    mse = np.mean(errors)\n",
    "    return mse\n",
    "\n",
    "actual = np.array([1.0, 2.0, 3.0])\n",
    "predicted = np.array([1.1, 1.9, 3.2])\n",
    "\n",
    "print(mean_squared_error(actual, predicted))"
   ]
  },
  {
   "cell_type": "code",
   "execution_count": null,
   "id": "4e79d9fa",
   "metadata": {},
   "outputs": [
    {
     "name": "stdout",
     "output_type": "stream",
     "text": [
      "0.14462152754328741\n"
     ]
    }
   ],
   "source": [
    "# Task 5\n",
    "def binary_cross_entropy(target: np.ndarray, predictions: np.ndarray) -> float:\n",
    "    predictions = np.clip(predictions, 1e-15, 1 - 1e-15)\n",
    "    loss = - (target * np.log(predictions) + (1 - target) * np.log(1 - predictions))\n",
    "    return np.mean(loss)\n",
    "\n",
    "actual = np.array([1, 0, 1])\n",
    "predicted = np.array([0.9, 0.1, 0.8])\n",
    "\n",
    "print(binary_cross_entropy(actual, predicted))\n"
   ]
  }
 ],
 "metadata": {
  "kernelspec": {
   "display_name": "Python 3",
   "language": "python",
   "name": "python3"
  },
  "language_info": {
   "codemirror_mode": {
    "name": "ipython",
    "version": 3
   },
   "file_extension": ".py",
   "mimetype": "text/x-python",
   "name": "python",
   "nbconvert_exporter": "python",
   "pygments_lexer": "ipython3",
   "version": "3.12.4"
  }
 },
 "nbformat": 4,
 "nbformat_minor": 5
}
