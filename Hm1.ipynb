{
 "cells": [
  {
   "cell_type": "code",
   "execution_count": null,
   "metadata": {},
   "outputs": [],
   "source": [
    "# Task 1\n",
    "\n",
    "num = int(input(\"Enter your number: \"))\n",
    "\n",
    "def int_to_binary(k):\n",
    "    return bin(k).replace(\"0b\", \"\")\n",
    "\n",
    "print(\"It's binary representation:\", int_to_binary(num))"
   ]
  },
  {
   "cell_type": "code",
   "execution_count": null,
   "metadata": {},
   "outputs": [],
   "source": [
    "# Task 2\n",
    "\n",
    "action = input(\"Enter an expression: \")\n",
    "\n",
    "def calculator(action):\n",
    "    try:\n",
    "        return eval(action)\n",
    "    except Exception as e:\n",
    "        return f\"Error: {e}\"\n",
    "\n",
    "print(\"Result:\", calculator(action))"
   ]
  },
  {
   "cell_type": "code",
   "execution_count": null,
   "metadata": {},
   "outputs": [],
   "source": [
    "# Task 3\n",
    "\n",
    "import random\n",
    "\n",
    "N = int(input(\"Find all prime numbers up to: \"))\n",
    "\n",
    "def find_primes(n):\n",
    "    primes = []\n",
    "    for num in range(2, n + 1):\n",
    "        for i in range(2, num):\n",
    "            if num % i == 0:\n",
    "                break\n",
    "        else:\n",
    "            primes.append(num)\n",
    "    return primes\n",
    "\n",
    "def guessing_game():\n",
    "    secret_number = random.randint(1, 100)\n",
    "    print(\"Guess a number between 1 and 100!\")\n",
    "\n",
    "    while True:\n",
    "        guess = int(input(\"Enter your guess: \"))\n",
    "\n",
    "        if guess < secret_number:\n",
    "            print(\"Too low! Try again.\")\n",
    "        elif guess > secret_number:\n",
    "            print(\"Too high! Try again.\")\n",
    "        else:\n",
    "            print(\"Congratulations! You guessed it!\")\n",
    "            break\n",
    "\n",
    "print(\"Prime numbers:\", find_primes(N))\n",
    "\n",
    "guessing_game()"
   ]
  },
  {
   "cell_type": "code",
   "execution_count": null,
   "metadata": {},
   "outputs": [],
   "source": [
    "# Task 4\n",
    "\n",
    "words = [\"apple\", \"banana\", \"cherry\", \"avocado\", \"blueberry\", \"carrot\"]\n",
    "\n",
    "def group_words(words):\n",
    "    grouped = {}\n",
    "    for word in words:\n",
    "        first_letter = word[0].lower()\n",
    "        if first_letter not in grouped:\n",
    "            grouped[first_letter] = []\n",
    "        grouped[first_letter].append(word)\n",
    "    return grouped\n",
    "\n",
    "grouped_words = group_words(words)\n",
    "print(grouped_words)\n"
   ]
  },
  {
   "cell_type": "code",
   "execution_count": null,
   "metadata": {},
   "outputs": [],
   "source": [
    "set1 = {1, 3, 2, 4, 5, 9, 10, 80, 700, 7, 0}\n",
    "set2 = {3, 4, 5, 6, 7, 9}\n",
    "\n",
    "def set_operations(set1, set2):\n",
    "    intersection = set1 & set2\n",
    "    difference = set1 - set2\n",
    "    return intersection, difference\n",
    "\n",
    "inter, diff = set_operations(set1, set2)\n",
    "\n",
    "print(\"Intersection:\", inter)\n",
    "print(\"Difference:\", diff)"
   ]
  },
  {
   "cell_type": "code",
   "execution_count": null,
   "metadata": {},
   "outputs": [],
   "source": [
    "# Task 5\n",
    "\n",
    "sentence = input(\"Dude write smth: \")\n",
    "\n",
    "def find_longest_word(sentence):\n",
    "    words = sentence.split()\n",
    "    longest_word = max(words, key=len)\n",
    "    return longest_word\n",
    "\n",
    "longest = find_longest_word(sentence)\n",
    "\n",
    "print(sentence)\n",
    "print(\"The longest word is:\", longest)"
   ]
  },
  {
   "cell_type": "code",
   "execution_count": null,
   "metadata": {},
   "outputs": [],
   "source": [
    "text = input(\"Enter a string: \")\n",
    "\n",
    "def reverse_string(s):\n",
    "    reversed_s = \"\"\n",
    "    for char in s:\n",
    "        reversed_s = char + reversed_s\n",
    "    return reversed_s\n",
    "\n",
    "reversed_text = reverse_string(text)\n",
    "\n",
    "print(\"Your number:\", text)\n",
    "print(\"Reversed:\", reversed_text)"
   ]
  },
  {
   "cell_type": "code",
   "execution_count": null,
   "metadata": {},
   "outputs": [],
   "source": [
    "# Task 6\n",
    "\n",
    "roman_numeral = input(\"Enter a Roman number: \").upper()\n",
    "\n",
    "def roman_to_integer(roman):\n",
    "    roman_values = {'I': 1, 'V': 5, 'X': 10, 'L': 50, 'C': 100, 'D': 500, 'M': 1000}\n",
    "    total = 0\n",
    "    prev_value = 0\n",
    "\n",
    "    for char in reversed(roman):\n",
    "        value = roman_values[char]\n",
    "        if value < prev_value:\n",
    "            total -= value\n",
    "        else:\n",
    "            total += value\n",
    "        prev_value = value\n",
    "\n",
    "    return total\n",
    "\n",
    "integer_value = roman_to_integer(roman_numeral)\n",
    "\n",
    "print(\"Roman value:\", roman_numeral)\n",
    "print(\"Integer value:\", integer_value)"
   ]
  }
 ],
 "metadata": {
  "kernelspec": {
   "display_name": "Python 3",
   "language": "python",
   "name": "python3"
  },
  "language_info": {
   "codemirror_mode": {
    "name": "ipython",
    "version": 3
   },
   "file_extension": ".py",
   "mimetype": "text/x-python",
   "name": "python",
   "nbconvert_exporter": "python",
   "pygments_lexer": "ipython3",
   "version": "3.12.4"
  }
 },
 "nbformat": 4,
 "nbformat_minor": 2
}
