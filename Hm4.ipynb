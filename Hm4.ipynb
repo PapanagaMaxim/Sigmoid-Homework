{
 "cells": [
  {
   "cell_type": "code",
   "execution_count": null,
   "metadata": {},
   "outputs": [],
   "source": [
    "import pandas as pd\n",
    "import matplotlib.pyplot as plt\n",
    "import seaborn as sns\n",
    "\n",
    " # Necessary libraries for data analysis and visualization"
   ]
  },
  {
   "cell_type": "code",
   "execution_count": null,
   "metadata": {},
   "outputs": [],
   "source": [
    "df = pd.read_csv('diabetes.csv') #The dataset we use"
   ]
  },
  {
   "cell_type": "code",
   "execution_count": null,
   "metadata": {},
   "outputs": [],
   "source": [
    "print(df.head()) # It displays the first 5 rows of the dataset to get an overview of the data\n",
    "print(df.info()) # It shows some general information about the dataset\n",
    "\n",
    "# I made this part to see how the dataset looks like before starting the main code"
   ]
  },
  {
   "cell_type": "code",
   "execution_count": null,
   "metadata": {},
   "outputs": [],
   "source": [
    "# I made a loop through each column in the dataset EXCEPT the target column 'Outcome' by using df.columns[:-1] (to exclude the last column which is 'Outcome')\n",
    "\n",
    "for column in df.columns[:-1]:\n",
    "    print(f\"Analysis for {column}:\")\n",
    "    print(f\"Mean: {df[column].mean()}\") # Average value\n",
    "    print(f\"Median: {df[column].median()}\") # Middle value when sorted\n",
    "    print(f\"Mode: {df[column].mode()[0]}\") # Most frequent value\n",
    "    # df[column].mode() returns a Series, so I took the first value by using[0]\n",
    "    print(f\"Standard Deviation: {df[column].std()}\") # How spread out the values are\n",
    "    print(f\"Variance: {df[column].var()}\") # Standard Deviation squared / Variance\n",
    "    print(f\"Range of values: {df[column].max() - df[column].min()}\") # Max - Min values\n",
    "    print(\"\\n\") #I printed a new line for better readability between columns (it's not necessary)"
   ]
  },
  {
   "cell_type": "code",
   "execution_count": null,
   "metadata": {},
   "outputs": [],
   "source": [
    "# There i droped the 'Outcome' itself to avoid trivial correlation of 1.0\n",
    "correlations = df.corr()['Outcome'].drop('Outcome')\n",
    "print(correlations)"
   ]
  },
  {
   "cell_type": "code",
   "execution_count": null,
   "metadata": {},
   "outputs": [],
   "source": [
    "# I used a heatmap to visualize the correlation matrix to see the strength of correlations clearer\n",
    "plt.figure(figsize=(10, 8))\n",
    "sns.heatmap(df.corr(), annot=True, cmap='coolwarm')\n",
    "plt.title('Feature Correlation Heatmap')\n",
    "plt.show()"
   ]
  },
  {
   "cell_type": "code",
   "execution_count": null,
   "metadata": {},
   "outputs": [],
   "source": [
    "# Correlation Analysis with the Target Column 'Outcome':\n",
    "#\n",
    "# In this dataset, the target column 'Outcome' shows whether a person has diabetes (1) or not (0).\n",
    "#\n",
    "# After checking the correlation values, the feature that has the strongest connection with the Outcome is 'Glucose',\n",
    "# with a correlation of around 0.47. This makes perfect sense because high blood sugar levels are one of the main signs of diabetes.\n",
    "#\n",
    "# Other features that show a decent correlation are:\n",
    "# BMI (~0.29) — since being overweight or obese is a common risk factor for diabetes.\n",
    "# Age (~0.24) — older people are more likely to develop diabetes.\n",
    "# Pregnancies (~0.22) — having more pregnancies can sometimes increase the risk, especially if someone had gestational diabetes before.\n",
    "#\n",
    "# The rest of the features like BloodPressure or SkinThickness don’t have a strong correlation with diabetes in this dataset.\n",
    "# This doesn’t mean they’re not important in real life — but here, they don’t seem to directly influence the Outcome as much as the others.\n",
    "#\n",
    "# Overall, the results match what we know from medical research — glucose levels, BMI, and age are some of the most common indicators of diabetes.\n",
    "\n",
    "# Here is a site that confirms my small research and explains the diabetes topic\n",
    "# https://www.nhlbi.nih.gov/resources/what-diabetes-fact-sheet"
   ]
  }
 ],
 "metadata": {
  "kernelspec": {
   "display_name": "Python 3",
   "language": "python",
   "name": "python3"
  },
  "language_info": {
   "codemirror_mode": {
    "name": "ipython",
    "version": 3
   },
   "file_extension": ".py",
   "mimetype": "text/x-python",
   "name": "python",
   "nbconvert_exporter": "python",
   "pygments_lexer": "ipython3",
   "version": "3.12.4"
  }
 },
 "nbformat": 4,
 "nbformat_minor": 2
}
