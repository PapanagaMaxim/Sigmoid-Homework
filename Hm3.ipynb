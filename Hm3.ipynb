{
 "cells": [
  {
   "cell_type": "code",
   "execution_count": 1,
   "metadata": {},
   "outputs": [],
   "source": [
    "class Person:\n",
    "    def __init__(self, name, age):\n",
    "        self.name = name\n",
    "        self.age = age\n",
    "    \n",
    "    def get_details(self):\n",
    "        return f\"Name: {self.name}, Age: {self.age}\""
   ]
  },
  {
   "cell_type": "code",
   "execution_count": 15,
   "metadata": {},
   "outputs": [],
   "source": [
    "class Student(Person):\n",
    "    def __init__(self, name, age, student_id):\n",
    "        super().__init__(name, age)\n",
    "        self.student_id = student_id\n",
    "        self.enrolled_courses = []\n",
    "    \n",
    "    def enroll(self, course):\n",
    "        self.enrolled_courses.append(course.course_name)\n",
    "        course.add_student(self)\n",
    "    \n",
    "    def get_details(self):\n",
    "        return f\"{super().get_details()}, Student ID: {self.student_id}, Courses: {', '.join(self.enrolled_courses) if self.enrolled_courses else 'None'}\""
   ]
  },
  {
   "cell_type": "code",
   "execution_count": 3,
   "metadata": {},
   "outputs": [],
   "source": [
    "class Teacher(Person):\n",
    "    def __init__(self, name, age, subject):\n",
    "        super().__init__(name, age)\n",
    "        self.subject = subject\n",
    "    \n",
    "    def teach(self):\n",
    "        return f\"{self.name} teaches {self.subject}.\"\n"
   ]
  },
  {
   "cell_type": "code",
   "execution_count": 11,
   "metadata": {},
   "outputs": [],
   "source": [
    "class Course:\n",
    "    def __init__(self, course_name, teacher):\n",
    "        self.course_name = course_name\n",
    "        self.teacher = teacher\n",
    "        self.students = []\n",
    "    \n",
    "    def add_student(self, student):\n",
    "        self.students.append(student)\n",
    "    \n",
    "    def list_students(self):\n",
    "        return [student.name for student in self.students]\n"
   ]
  },
  {
   "cell_type": "code",
   "execution_count": 30,
   "metadata": {},
   "outputs": [],
   "source": [
    "student1 = Student(\"Max\", 15, \"S909\")\n",
    "teacher1 = Teacher(\"William\", 35 , \"History\")\n",
    "\n",
    "course1 = Course(\"The 5th century\", teacher1)\n",
    "student1.enroll(course1)"
   ]
  },
  {
   "cell_type": "code",
   "execution_count": null,
   "metadata": {},
   "outputs": [],
   "source": [
    "print(student1.get_details())\n",
    "print(teacher1.teach())\n",
    "print(course1.list_students())"
   ]
  }
 ],
 "metadata": {
  "kernelspec": {
   "display_name": "Python 3",
   "language": "python",
   "name": "python3"
  },
  "language_info": {
   "codemirror_mode": {
    "name": "ipython",
    "version": 3
   },
   "file_extension": ".py",
   "mimetype": "text/x-python",
   "name": "python",
   "nbconvert_exporter": "python",
   "pygments_lexer": "ipython3",
   "version": "3.12.4"
  }
 },
 "nbformat": 4,
 "nbformat_minor": 2
}
